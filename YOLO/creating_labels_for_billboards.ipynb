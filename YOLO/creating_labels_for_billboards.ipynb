{
 "cells": [
  {
   "cell_type": "markdown",
   "metadata": {},
   "source": [
    "# Import Libraries"
   ]
  },
  {
   "cell_type": "code",
   "execution_count": 183,
   "metadata": {},
   "outputs": [],
   "source": [
    "import os\n",
    "import pandas as pd\n",
    "import numpy as np\n",
    "import cv2"
   ]
  },
  {
   "cell_type": "markdown",
   "metadata": {},
   "source": [
    "# Load Dataset"
   ]
  },
  {
   "cell_type": "code",
   "execution_count": 184,
   "metadata": {},
   "outputs": [],
   "source": [
    "df = pd.read_csv(\"billboard/train_labels.csv\")"
   ]
  },
  {
   "cell_type": "code",
   "execution_count": 185,
   "metadata": {},
   "outputs": [
    {
     "data": {
      "text/html": [
       "<div>\n",
       "<style scoped>\n",
       "    .dataframe tbody tr th:only-of-type {\n",
       "        vertical-align: middle;\n",
       "    }\n",
       "\n",
       "    .dataframe tbody tr th {\n",
       "        vertical-align: top;\n",
       "    }\n",
       "\n",
       "    .dataframe thead th {\n",
       "        text-align: right;\n",
       "    }\n",
       "</style>\n",
       "<table border=\"1\" class=\"dataframe\">\n",
       "  <thead>\n",
       "    <tr style=\"text-align: right;\">\n",
       "      <th></th>\n",
       "      <th>ID</th>\n",
       "      <th>Labels</th>\n",
       "    </tr>\n",
       "  </thead>\n",
       "  <tbody>\n",
       "    <tr>\n",
       "      <th>0</th>\n",
       "      <td>9c2c67a8bab25b17.jpg</td>\n",
       "      <td>115 91 634 354 billboard 815 371 917 484 billb...</td>\n",
       "    </tr>\n",
       "    <tr>\n",
       "      <th>1</th>\n",
       "      <td>bee6a98eeb1ee48e.jpg</td>\n",
       "      <td>276 164 771 735 billboard</td>\n",
       "    </tr>\n",
       "    <tr>\n",
       "      <th>2</th>\n",
       "      <td>4ccbcbf33650b75a.jpg</td>\n",
       "      <td>121 267 484 652 billboard</td>\n",
       "    </tr>\n",
       "    <tr>\n",
       "      <th>3</th>\n",
       "      <td>b5c6ed3a56eb38c1.jpg</td>\n",
       "      <td>74 451 167 665 billboard 329 240 757 476 billb...</td>\n",
       "    </tr>\n",
       "    <tr>\n",
       "      <th>4</th>\n",
       "      <td>00a2d2f1b206b096.jpg</td>\n",
       "      <td>0 599 19 632 billboard 103 599 209 639 billboa...</td>\n",
       "    </tr>\n",
       "  </tbody>\n",
       "</table>\n",
       "</div>"
      ],
      "text/plain": [
       "                     ID                                             Labels\n",
       "0  9c2c67a8bab25b17.jpg  115 91 634 354 billboard 815 371 917 484 billb...\n",
       "1  bee6a98eeb1ee48e.jpg                          276 164 771 735 billboard\n",
       "2  4ccbcbf33650b75a.jpg                          121 267 484 652 billboard\n",
       "3  b5c6ed3a56eb38c1.jpg  74 451 167 665 billboard 329 240 757 476 billb...\n",
       "4  00a2d2f1b206b096.jpg  0 599 19 632 billboard 103 599 209 639 billboa..."
      ]
     },
     "execution_count": 185,
     "metadata": {},
     "output_type": "execute_result"
    }
   ],
   "source": [
    "df.head()"
   ]
  },
  {
   "cell_type": "markdown",
   "metadata": {},
   "source": [
    "# Flow"
   ]
  },
  {
   "cell_type": "code",
   "execution_count": 186,
   "metadata": {},
   "outputs": [
    {
     "data": {
      "text/plain": [
       "['115 91 634 354 ', ' 815 371 917 484 ']"
      ]
     },
     "execution_count": 186,
     "metadata": {},
     "output_type": "execute_result"
    }
   ],
   "source": [
    "boxes = df['Labels'][0].split('billboard')\n",
    "boxes.remove('')\n",
    "boxes"
   ]
  },
  {
   "cell_type": "code",
   "execution_count": 187,
   "metadata": {},
   "outputs": [],
   "source": [
    "bounding_box = [ list(map(int,box.split())) for box in boxes]"
   ]
  },
  {
   "cell_type": "code",
   "execution_count": 188,
   "metadata": {},
   "outputs": [],
   "source": [
    "get_bounding_box = lambda label: [list(map(int, box.split())) for box in label.split('billboard') if box]\n",
    "\n",
    "df['Bounding Boxes'] = df['Labels'].apply(get_bounding_box)"
   ]
  },
  {
   "cell_type": "code",
   "execution_count": 189,
   "metadata": {},
   "outputs": [
    {
     "data": {
      "text/html": [
       "<div>\n",
       "<style scoped>\n",
       "    .dataframe tbody tr th:only-of-type {\n",
       "        vertical-align: middle;\n",
       "    }\n",
       "\n",
       "    .dataframe tbody tr th {\n",
       "        vertical-align: top;\n",
       "    }\n",
       "\n",
       "    .dataframe thead th {\n",
       "        text-align: right;\n",
       "    }\n",
       "</style>\n",
       "<table border=\"1\" class=\"dataframe\">\n",
       "  <thead>\n",
       "    <tr style=\"text-align: right;\">\n",
       "      <th></th>\n",
       "      <th>ID</th>\n",
       "      <th>Labels</th>\n",
       "      <th>Bounding Boxes</th>\n",
       "    </tr>\n",
       "  </thead>\n",
       "  <tbody>\n",
       "    <tr>\n",
       "      <th>0</th>\n",
       "      <td>9c2c67a8bab25b17.jpg</td>\n",
       "      <td>115 91 634 354 billboard 815 371 917 484 billb...</td>\n",
       "      <td>[[115, 91, 634, 354], [815, 371, 917, 484]]</td>\n",
       "    </tr>\n",
       "    <tr>\n",
       "      <th>1</th>\n",
       "      <td>bee6a98eeb1ee48e.jpg</td>\n",
       "      <td>276 164 771 735 billboard</td>\n",
       "      <td>[[276, 164, 771, 735]]</td>\n",
       "    </tr>\n",
       "    <tr>\n",
       "      <th>2</th>\n",
       "      <td>4ccbcbf33650b75a.jpg</td>\n",
       "      <td>121 267 484 652 billboard</td>\n",
       "      <td>[[121, 267, 484, 652]]</td>\n",
       "    </tr>\n",
       "    <tr>\n",
       "      <th>3</th>\n",
       "      <td>b5c6ed3a56eb38c1.jpg</td>\n",
       "      <td>74 451 167 665 billboard 329 240 757 476 billb...</td>\n",
       "      <td>[[74, 451, 167, 665], [329, 240, 757, 476]]</td>\n",
       "    </tr>\n",
       "    <tr>\n",
       "      <th>4</th>\n",
       "      <td>00a2d2f1b206b096.jpg</td>\n",
       "      <td>0 599 19 632 billboard 103 599 209 639 billboa...</td>\n",
       "      <td>[[0, 599, 19, 632], [103, 599, 209, 639], [226...</td>\n",
       "    </tr>\n",
       "  </tbody>\n",
       "</table>\n",
       "</div>"
      ],
      "text/plain": [
       "                     ID                                             Labels   \n",
       "0  9c2c67a8bab25b17.jpg  115 91 634 354 billboard 815 371 917 484 billb...  \\\n",
       "1  bee6a98eeb1ee48e.jpg                          276 164 771 735 billboard   \n",
       "2  4ccbcbf33650b75a.jpg                          121 267 484 652 billboard   \n",
       "3  b5c6ed3a56eb38c1.jpg  74 451 167 665 billboard 329 240 757 476 billb...   \n",
       "4  00a2d2f1b206b096.jpg  0 599 19 632 billboard 103 599 209 639 billboa...   \n",
       "\n",
       "                                      Bounding Boxes  \n",
       "0        [[115, 91, 634, 354], [815, 371, 917, 484]]  \n",
       "1                             [[276, 164, 771, 735]]  \n",
       "2                             [[121, 267, 484, 652]]  \n",
       "3        [[74, 451, 167, 665], [329, 240, 757, 476]]  \n",
       "4  [[0, 599, 19, 632], [103, 599, 209, 639], [226...  "
      ]
     },
     "execution_count": 189,
     "metadata": {},
     "output_type": "execute_result"
    }
   ],
   "source": [
    "df.head()"
   ]
  },
  {
   "attachments": {},
   "cell_type": "markdown",
   "metadata": {},
   "source": [
    "# Apply the Normalization"
   ]
  },
  {
   "cell_type": "code",
   "execution_count": 190,
   "metadata": {},
   "outputs": [],
   "source": [
    "def convert_to_yolo_bbox(bbox, image_width, image_height):\n",
    "    xmin, ymin, xmax, ymax = bbox\n",
    "    x_center = (xmin + xmax) / 2\n",
    "    y_center = (ymin + ymax) / 2\n",
    "    width = xmax - xmin\n",
    "    height = ymax - ymin\n",
    "\n",
    "    # Normalize the values between 0 and 1\n",
    "    x_center /= image_width\n",
    "    y_center /= image_height\n",
    "    width /= image_width\n",
    "    height /= image_height\n",
    "\n",
    "    normalized_bounding_box = [round(x_center,6), round(y_center,6), round(width,6), round(height,6)]\n",
    "    return normalized_bounding_box"
   ]
  },
  {
   "cell_type": "code",
   "execution_count": 191,
   "metadata": {},
   "outputs": [],
   "source": [
    "df['Image_Height_Width'] = df['ID'].apply(lambda x: cv2.imread(f\"billboard/Images/{x}\").shape[:2])"
   ]
  },
  {
   "cell_type": "code",
   "execution_count": 192,
   "metadata": {},
   "outputs": [
    {
     "data": {
      "text/html": [
       "<div>\n",
       "<style scoped>\n",
       "    .dataframe tbody tr th:only-of-type {\n",
       "        vertical-align: middle;\n",
       "    }\n",
       "\n",
       "    .dataframe tbody tr th {\n",
       "        vertical-align: top;\n",
       "    }\n",
       "\n",
       "    .dataframe thead th {\n",
       "        text-align: right;\n",
       "    }\n",
       "</style>\n",
       "<table border=\"1\" class=\"dataframe\">\n",
       "  <thead>\n",
       "    <tr style=\"text-align: right;\">\n",
       "      <th></th>\n",
       "      <th>ID</th>\n",
       "      <th>Labels</th>\n",
       "      <th>Bounding Boxes</th>\n",
       "      <th>Image_Height_Width</th>\n",
       "    </tr>\n",
       "  </thead>\n",
       "  <tbody>\n",
       "    <tr>\n",
       "      <th>0</th>\n",
       "      <td>9c2c67a8bab25b17.jpg</td>\n",
       "      <td>115 91 634 354 billboard 815 371 917 484 billb...</td>\n",
       "      <td>[[115, 91, 634, 354], [815, 371, 917, 484]]</td>\n",
       "      <td>(683, 1024)</td>\n",
       "    </tr>\n",
       "    <tr>\n",
       "      <th>1</th>\n",
       "      <td>bee6a98eeb1ee48e.jpg</td>\n",
       "      <td>276 164 771 735 billboard</td>\n",
       "      <td>[[276, 164, 771, 735]]</td>\n",
       "      <td>(768, 1024)</td>\n",
       "    </tr>\n",
       "    <tr>\n",
       "      <th>2</th>\n",
       "      <td>4ccbcbf33650b75a.jpg</td>\n",
       "      <td>121 267 484 652 billboard</td>\n",
       "      <td>[[121, 267, 484, 652]]</td>\n",
       "      <td>(683, 1024)</td>\n",
       "    </tr>\n",
       "    <tr>\n",
       "      <th>3</th>\n",
       "      <td>b5c6ed3a56eb38c1.jpg</td>\n",
       "      <td>74 451 167 665 billboard 329 240 757 476 billb...</td>\n",
       "      <td>[[74, 451, 167, 665], [329, 240, 757, 476]]</td>\n",
       "      <td>(768, 1024)</td>\n",
       "    </tr>\n",
       "    <tr>\n",
       "      <th>4</th>\n",
       "      <td>00a2d2f1b206b096.jpg</td>\n",
       "      <td>0 599 19 632 billboard 103 599 209 639 billboa...</td>\n",
       "      <td>[[0, 599, 19, 632], [103, 599, 209, 639], [226...</td>\n",
       "      <td>(768, 1024)</td>\n",
       "    </tr>\n",
       "  </tbody>\n",
       "</table>\n",
       "</div>"
      ],
      "text/plain": [
       "                     ID                                             Labels   \n",
       "0  9c2c67a8bab25b17.jpg  115 91 634 354 billboard 815 371 917 484 billb...  \\\n",
       "1  bee6a98eeb1ee48e.jpg                          276 164 771 735 billboard   \n",
       "2  4ccbcbf33650b75a.jpg                          121 267 484 652 billboard   \n",
       "3  b5c6ed3a56eb38c1.jpg  74 451 167 665 billboard 329 240 757 476 billb...   \n",
       "4  00a2d2f1b206b096.jpg  0 599 19 632 billboard 103 599 209 639 billboa...   \n",
       "\n",
       "                                      Bounding Boxes Image_Height_Width  \n",
       "0        [[115, 91, 634, 354], [815, 371, 917, 484]]        (683, 1024)  \n",
       "1                             [[276, 164, 771, 735]]        (768, 1024)  \n",
       "2                             [[121, 267, 484, 652]]        (683, 1024)  \n",
       "3        [[74, 451, 167, 665], [329, 240, 757, 476]]        (768, 1024)  \n",
       "4  [[0, 599, 19, 632], [103, 599, 209, 639], [226...        (768, 1024)  "
      ]
     },
     "execution_count": 192,
     "metadata": {},
     "output_type": "execute_result"
    }
   ],
   "source": [
    "df.head()"
   ]
  },
  {
   "cell_type": "code",
   "execution_count": 193,
   "metadata": {},
   "outputs": [],
   "source": [
    "for index, row in df.iterrows():\n",
    "    image_height, image_width = df['Image_Height_Width'][index]\n",
    "    yolo_bboxes = [convert_to_yolo_bbox(box, image_width, image_height) for box in row['Bounding Boxes']]\n",
    "    df.at[index, 'Bounding Boxes'] = yolo_bboxes"
   ]
  },
  {
   "cell_type": "code",
   "execution_count": 194,
   "metadata": {},
   "outputs": [
    {
     "data": {
      "text/html": [
       "<div>\n",
       "<style scoped>\n",
       "    .dataframe tbody tr th:only-of-type {\n",
       "        vertical-align: middle;\n",
       "    }\n",
       "\n",
       "    .dataframe tbody tr th {\n",
       "        vertical-align: top;\n",
       "    }\n",
       "\n",
       "    .dataframe thead th {\n",
       "        text-align: right;\n",
       "    }\n",
       "</style>\n",
       "<table border=\"1\" class=\"dataframe\">\n",
       "  <thead>\n",
       "    <tr style=\"text-align: right;\">\n",
       "      <th></th>\n",
       "      <th>ID</th>\n",
       "      <th>Labels</th>\n",
       "      <th>Bounding Boxes</th>\n",
       "      <th>Image_Height_Width</th>\n",
       "    </tr>\n",
       "  </thead>\n",
       "  <tbody>\n",
       "    <tr>\n",
       "      <th>0</th>\n",
       "      <td>9c2c67a8bab25b17.jpg</td>\n",
       "      <td>115 91 634 354 billboard 815 371 917 484 billb...</td>\n",
       "      <td>[[0.365723, 0.325769, 0.506836, 0.385066], [0....</td>\n",
       "      <td>(683, 1024)</td>\n",
       "    </tr>\n",
       "    <tr>\n",
       "      <th>1</th>\n",
       "      <td>bee6a98eeb1ee48e.jpg</td>\n",
       "      <td>276 164 771 735 billboard</td>\n",
       "      <td>[[0.51123, 0.585286, 0.483398, 0.74349]]</td>\n",
       "      <td>(768, 1024)</td>\n",
       "    </tr>\n",
       "    <tr>\n",
       "      <th>2</th>\n",
       "      <td>4ccbcbf33650b75a.jpg</td>\n",
       "      <td>121 267 484 652 billboard</td>\n",
       "      <td>[[0.29541, 0.672767, 0.354492, 0.56369]]</td>\n",
       "      <td>(683, 1024)</td>\n",
       "    </tr>\n",
       "    <tr>\n",
       "      <th>3</th>\n",
       "      <td>b5c6ed3a56eb38c1.jpg</td>\n",
       "      <td>74 451 167 665 billboard 329 240 757 476 billb...</td>\n",
       "      <td>[[0.117676, 0.726562, 0.09082, 0.278646], [0.5...</td>\n",
       "      <td>(768, 1024)</td>\n",
       "    </tr>\n",
       "    <tr>\n",
       "      <th>4</th>\n",
       "      <td>00a2d2f1b206b096.jpg</td>\n",
       "      <td>0 599 19 632 billboard 103 599 209 639 billboa...</td>\n",
       "      <td>[[0.009277, 0.801432, 0.018555, 0.042969], [0....</td>\n",
       "      <td>(768, 1024)</td>\n",
       "    </tr>\n",
       "  </tbody>\n",
       "</table>\n",
       "</div>"
      ],
      "text/plain": [
       "                     ID                                             Labels   \n",
       "0  9c2c67a8bab25b17.jpg  115 91 634 354 billboard 815 371 917 484 billb...  \\\n",
       "1  bee6a98eeb1ee48e.jpg                          276 164 771 735 billboard   \n",
       "2  4ccbcbf33650b75a.jpg                          121 267 484 652 billboard   \n",
       "3  b5c6ed3a56eb38c1.jpg  74 451 167 665 billboard 329 240 757 476 billb...   \n",
       "4  00a2d2f1b206b096.jpg  0 599 19 632 billboard 103 599 209 639 billboa...   \n",
       "\n",
       "                                      Bounding Boxes Image_Height_Width  \n",
       "0  [[0.365723, 0.325769, 0.506836, 0.385066], [0....        (683, 1024)  \n",
       "1           [[0.51123, 0.585286, 0.483398, 0.74349]]        (768, 1024)  \n",
       "2           [[0.29541, 0.672767, 0.354492, 0.56369]]        (683, 1024)  \n",
       "3  [[0.117676, 0.726562, 0.09082, 0.278646], [0.5...        (768, 1024)  \n",
       "4  [[0.009277, 0.801432, 0.018555, 0.042969], [0....        (768, 1024)  "
      ]
     },
     "execution_count": 194,
     "metadata": {},
     "output_type": "execute_result"
    }
   ],
   "source": [
    "df.head()"
   ]
  },
  {
   "attachments": {},
   "cell_type": "markdown",
   "metadata": {},
   "source": [
    "# Saving in respective files"
   ]
  },
  {
   "cell_type": "code",
   "execution_count": null,
   "metadata": {},
   "outputs": [],
   "source": [
    "for index,row in df.iterrows():\n",
    "        \n",
    "    # File path\n",
    "    file = df['ID'][index].split('.')[0]\n",
    "    file_path = f\"C:/Users/Ghost/Desktop/galli_maps/training_billboard/billboard/Images_and_Labels/{file}.txt\"\n",
    "\n",
    "    bounding_boxes_with_zeros = [[0] + box for box in df['Bounding Boxes'][index]]\n",
    "    \n",
    "    # Open the file in write mode\n",
    "    with open(file_path, 'w') as file:\n",
    "        # Write each sublist to a new line in the file\n",
    "        for box in bounding_boxes_with_zeros:\n",
    "            line = ' '.join(map(str, box)) + '\\n'  # Convert the sublist to a string and add a newline character\n",
    "            file.write(line)\n",
    "\n",
    "    # print(\"File saved successfully.\")"
   ]
  },
  {
   "cell_type": "code",
   "execution_count": null,
   "metadata": {},
   "outputs": [],
   "source": []
  }
 ],
 "metadata": {
  "kernelspec": {
   "display_name": "galli_maps",
   "language": "python",
   "name": "python3"
  },
  "language_info": {
   "codemirror_mode": {
    "name": "ipython",
    "version": 3
   },
   "file_extension": ".py",
   "mimetype": "text/x-python",
   "name": "python",
   "nbconvert_exporter": "python",
   "pygments_lexer": "ipython3",
   "version": "3.11.3"
  },
  "orig_nbformat": 4
 },
 "nbformat": 4,
 "nbformat_minor": 2
}

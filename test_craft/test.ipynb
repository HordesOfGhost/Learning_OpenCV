{
 "cells": [
  {
   "cell_type": "markdown",
   "metadata": {},
   "source": [
    "# Import Libraries"
   ]
  },
  {
   "cell_type": "code",
   "execution_count": 1,
   "metadata": {},
   "outputs": [],
   "source": [
    "import glob\n",
    "import cv2\n",
    "from craft_text_detector import Craft\n"
   ]
  },
  {
   "cell_type": "markdown",
   "metadata": {},
   "source": [
    "# Read Files"
   ]
  },
  {
   "cell_type": "code",
   "execution_count": 2,
   "metadata": {},
   "outputs": [
    {
     "name": "stdout",
     "output_type": "stream",
     "text": [
      "test\\2023_02_09_022329.jpg\n",
      "test\\2023_02_24_080700.jpg\n",
      "test\\1.png\n",
      "test\\2.png\n",
      "test\\3.png\n",
      "test\\4.png\n",
      "test\\Screenshot (1).png\n"
     ]
    }
   ],
   "source": [
    "# set image path and export folder directory\n",
    "file_type=['JPG','JPEG','PNG','JFIF']\n",
    "images=[]\n",
    "#for copying later\n",
    "filename=[]\n",
    "for format in file_type:\n",
    "    for path in glob.glob(f\"test/*.{format}\"):\n",
    "        print(path)\n",
    "        filename.append(path)\n",
    "        images.append(cv2.imread(path))# can be filepath, PIL image or numpy array\n",
    "\n",
    "output_dir = 'outputs/'"
   ]
  },
  {
   "cell_type": "markdown",
   "metadata": {},
   "source": [
    "# Initialize Class"
   ]
  },
  {
   "cell_type": "code",
   "execution_count": 3,
   "metadata": {},
   "outputs": [
    {
     "name": "stderr",
     "output_type": "stream",
     "text": [
      "c:\\Users\\Ghost\\anaconda3\\envs\\galli_maps\\lib\\site-packages\\torchvision\\models\\_utils.py:208: UserWarning: The parameter 'pretrained' is deprecated since 0.13 and may be removed in the future, please use 'weights' instead.\n",
      "  warnings.warn(\n",
      "c:\\Users\\Ghost\\anaconda3\\envs\\galli_maps\\lib\\site-packages\\torchvision\\models\\_utils.py:223: UserWarning: Arguments other than a weight enum or `None` for 'weights' are deprecated since 0.13 and may be removed in the future. The current behavior is equivalent to passing `weights=None`.\n",
      "  warnings.warn(msg)\n"
     ]
    }
   ],
   "source": [
    "craft = Craft( crop_type=\"box\", cuda=True,text_threshold=0.8,link_threshold=0.8,low_text=0.25)"
   ]
  },
  {
   "cell_type": "code",
   "execution_count": 4,
   "metadata": {},
   "outputs": [],
   "source": [
    "# Predict"
   ]
  },
  {
   "cell_type": "code",
   "execution_count": 5,
   "metadata": {},
   "outputs": [
    {
     "name": "stdout",
     "output_type": "stream",
     "text": [
      "predicting image 0\n",
      "predicting image 1\n",
      "predicting image 2\n",
      "predicting image 3\n",
      "predicting image 4\n"
     ]
    },
    {
     "name": "stderr",
     "output_type": "stream",
     "text": [
      "c:\\Users\\Ghost\\anaconda3\\envs\\galli_maps\\lib\\site-packages\\craft_text_detector\\craft_utils.py:415: VisibleDeprecationWarning: Creating an ndarray from ragged nested sequences (which is a list-or-tuple of lists-or-tuples-or ndarrays with different lengths or shapes) is deprecated. If you meant to do this, you must specify 'dtype=object' when creating the ndarray.\n",
      "  polys = np.array(polys)\n",
      "c:\\Users\\Ghost\\anaconda3\\envs\\galli_maps\\lib\\site-packages\\craft_text_detector\\predict.py:110: VisibleDeprecationWarning: Creating an ndarray from ragged nested sequences (which is a list-or-tuple of lists-or-tuples-or ndarrays with different lengths or shapes) is deprecated. If you meant to do this, you must specify 'dtype=object' when creating the ndarray.\n",
      "  polys_as_ratio = np.array(polys_as_ratio)\n"
     ]
    },
    {
     "name": "stdout",
     "output_type": "stream",
     "text": [
      "predicting image 5\n",
      "predicting image 6\n"
     ]
    }
   ],
   "source": [
    "\n",
    "# apply craft text detection and export detected regions to output directory\n",
    "for index in range(len(images)):\n",
    "    img = images[index].copy()\n",
    "    print(f'predicting image {index}')\n",
    "    craft.output_dir = f'outputs/box/{index}'\n",
    "\n",
    "    prediction_result = craft.detect_text(img)\n",
    "# del craft\n",
    "    # unload models from ram/gpu\n",
    "# craft.unload_craftnet_model()\n",
    "# craft.unload_refinenet_model()"
   ]
  },
  {
   "cell_type": "markdown",
   "metadata": {},
   "source": [
    "# Releasing the class instance"
   ]
  },
  {
   "cell_type": "code",
   "execution_count": null,
   "metadata": {},
   "outputs": [],
   "source": [
    "craft.unload_craftnet_model()\n",
    "craft.unload_refinenet_model()"
   ]
  }
 ],
 "metadata": {
  "kernelspec": {
   "display_name": "galli_maps",
   "language": "python",
   "name": "python3"
  },
  "language_info": {
   "codemirror_mode": {
    "name": "ipython",
    "version": 3
   },
   "file_extension": ".py",
   "mimetype": "text/x-python",
   "name": "python",
   "nbconvert_exporter": "python",
   "pygments_lexer": "ipython3",
   "version": "3.8.17"
  },
  "orig_nbformat": 4
 },
 "nbformat": 4,
 "nbformat_minor": 2
}

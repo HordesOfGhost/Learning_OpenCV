{
 "cells": [
  {
   "cell_type": "code",
   "execution_count": 1,
   "metadata": {},
   "outputs": [],
   "source": [
    "import glob\n",
    "import cv2\n",
    "from craft_text_detector import Craft\n"
   ]
  },
  {
   "cell_type": "code",
   "execution_count": 2,
   "metadata": {},
   "outputs": [
    {
     "name": "stdout",
     "output_type": "stream",
     "text": [
      "test\\2023_02_09_022329.jpg\n",
      "test\\2023_02_24_080700.jpg\n",
      "test\\1.png\n",
      "test\\2.png\n",
      "test\\3.png\n",
      "test\\4.png\n",
      "test\\Screenshot (1).png\n"
     ]
    }
   ],
   "source": [
    "# set image path and export folder directory\n",
    "file_type=['JPG','JPEG','PNG','JFIF']\n",
    "images=[]\n",
    "#for copying later\n",
    "filename=[]\n",
    "for format in file_type:\n",
    "    for path in glob.glob(f\"test/*.{format}\"):\n",
    "        print(path)\n",
    "        filename.append(path)\n",
    "        images.append(cv2.imread(path))# can be filepath, PIL image or numpy array\n",
    "\n",
    "output_dir = 'outputs/'"
   ]
  },
  {
   "cell_type": "code",
   "execution_count": 16,
   "metadata": {},
   "outputs": [],
   "source": [
    "craft = Craft( crop_type=\"box\", cuda=True,text_threshold=0.8,link_threshold=0.8,low_text=0.25)"
   ]
  },
  {
   "cell_type": "code",
   "execution_count": 17,
   "metadata": {},
   "outputs": [
    {
     "name": "stdout",
     "output_type": "stream",
     "text": [
      "0\n",
      "1\n",
      "2\n",
      "3\n",
      "4\n",
      "5\n",
      "6\n"
     ]
    }
   ],
   "source": [
    "\n",
    "# apply craft text detection and export detected regions to output directory\n",
    "for index in range(len(images)):\n",
    "    img = images[index].copy()\n",
    "    print(index)\n",
    "    craft.output_dir = f'outputs/box/{index}'\n",
    "\n",
    "    prediction_result = craft.detect_text(img)\n",
    "# del craft\n",
    "    # unload models from ram/gpu\n",
    "# craft.unload_craftnet_model()\n",
    "# craft.unload_refinenet_model()"
   ]
  },
  {
   "cell_type": "code",
   "execution_count": 20,
   "metadata": {},
   "outputs": [],
   "source": [
    "box = prediction_result['boxes']"
   ]
  },
  {
   "cell_type": "code",
   "execution_count": 22,
   "metadata": {},
   "outputs": [
    {
     "data": {
      "text/plain": [
       "(22, 4, 2)"
      ]
     },
     "execution_count": 22,
     "metadata": {},
     "output_type": "execute_result"
    }
   ],
   "source": [
    "box.shape"
   ]
  },
  {
   "cell_type": "code",
   "execution_count": 18,
   "metadata": {},
   "outputs": [],
   "source": [
    "craft.unload_craftnet_model()\n",
    "craft.unload_refinenet_model()"
   ]
  }
 ],
 "metadata": {
  "kernelspec": {
   "display_name": "galli_maps",
   "language": "python",
   "name": "python3"
  },
  "language_info": {
   "codemirror_mode": {
    "name": "ipython",
    "version": 3
   },
   "file_extension": ".py",
   "mimetype": "text/x-python",
   "name": "python",
   "nbconvert_exporter": "python",
   "pygments_lexer": "ipython3",
   "version": "3.8.17"
  },
  "orig_nbformat": 4
 },
 "nbformat": 4,
 "nbformat_minor": 2
}
